{
 "cells": [
  {
   "cell_type": "code",
   "execution_count": 1,
   "id": "d8448b18",
   "metadata": {},
   "outputs": [
    {
     "name": "stdout",
     "output_type": "stream",
     "text": [
      "cuda\n"
     ]
    }
   ],
   "source": [
    "import os\n",
    "\n",
    "#Importing the required libraries\n",
    "import numpy as np\n",
    "import matplotlib.pyplot as plt\n",
    "import torch\n",
    "import torch.nn as nn\n",
    "import torch.optim as optim\n",
    "import torch.nn.functional as F\n",
    "import time\n",
    "import copy\n",
    "\n",
    "torch.manual_seed(1234)\n",
    "\n",
    "np.random.seed(1234)\n",
    "\n",
    "#Device configuration\n",
    "device = torch.device('cuda' if torch.cuda.is_available() else 'cpu')\n",
    "\n",
    "print(device)\n",
    "\n",
    "#if device.type == 'cuda':\n",
    "#  print(torch.cuda.get_device_name(0))"
   ]
  },
  {
   "cell_type": "code",
   "execution_count": 1,
   "id": "9adc51c1",
   "metadata": {},
   "outputs": [],
   "source": [
    "class config:\n",
    "  def __init__(self):\n",
    "    #The training parameters\n",
    "    self.num_epoch = 50\n",
    "    self.batch_size = 1\n",
    "\n",
    "    #Optimizer\n",
    "    self.lr = 0.001\n",
    "    self.weight_decay = 1e-4  #Regularization weight\n",
    "\n",
    "    #The learning rate scheduler\n",
    "    self.step_size = 100  #To decay after every, say 100 epochs\n",
    "    self.gamma = 0.5      #To reduce the learning rate by gamma (say, 1/2)\n",
    "\n",
    "    ##Model hyperparameters\n",
    "    self.modes = 16   #Number of Fourier modes to keep\n",
    "    self.width = 64   #The width for the input channels (can be a list if the input/output changes across the Fourier layers)\n",
    "\n",
    "\n",
    "cfg = config()"
   ]
  },
  {
   "cell_type": "code",
   "execution_count": null,
   "id": "f365c1c2",
   "metadata": {},
   "outputs": [],
   "source": []
  }
 ],
 "metadata": {
  "kernelspec": {
   "display_name": "venv",
   "language": "python",
   "name": "python3"
  },
  "language_info": {
   "codemirror_mode": {
    "name": "ipython",
    "version": 3
   },
   "file_extension": ".py",
   "mimetype": "text/x-python",
   "name": "python",
   "nbconvert_exporter": "python",
   "pygments_lexer": "ipython3",
   "version": "3.13.5"
  }
 },
 "nbformat": 4,
 "nbformat_minor": 5
}
