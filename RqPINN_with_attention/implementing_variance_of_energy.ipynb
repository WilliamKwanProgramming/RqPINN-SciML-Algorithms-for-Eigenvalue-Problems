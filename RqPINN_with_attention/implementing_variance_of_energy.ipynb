{
 "cells": [
  {
   "cell_type": "markdown",
   "id": "006e6853",
   "metadata": {},
   "source": [
    "We will solve the harmonic oscillator using the variance of energy approach \n"
   ]
  },
  {
   "cell_type": "code",
   "execution_count": 211,
   "id": "2d014348",
   "metadata": {},
   "outputs": [
    {
     "name": "stdout",
     "output_type": "stream",
     "text": [
      "cuda\n",
      "NVIDIA RTX A6000\n"
     ]
    }
   ],
   "source": [
    "#Importing the required libraries\n",
    "import numpy as np\n",
    "import matplotlib.pyplot as plt\n",
    "import torch\n",
    "from torch.autograd import grad\n",
    "import torch.nn as nn\n",
    "import torch.optim as optim     #optimizer\n",
    "import time\n",
    "import copy\n",
    "import torch.nn.functional as F\n",
    "from torch.optim.lr_scheduler import ReduceLROnPlateau\n",
    "\n",
    "torch.manual_seed(1234)\n",
    "\n",
    "np.random.seed(1234)\n",
    "\n",
    "#Device configuration\n",
    "device = torch.device('cuda' if torch.cuda.is_available() else 'cpu')\n",
    "\n",
    "print(device)\n",
    "\n",
    "if device.type == 'cuda':\n",
    "  print(torch.cuda.get_device_name(0))\n",
    "\n",
    "from pyDOE import lhs #latin hypercube sampling"
   ]
  },
  {
   "cell_type": "code",
   "execution_count": 223,
   "id": "229e4377",
   "metadata": {},
   "outputs": [],
   "source": [
    "#Second derivatives from Automatic Differentiation\n",
    "#Compute the Laplacian i.e sum of s2nd derivatives across the dimensions\n",
    "def laplacian(f,x):\n",
    "  laplace = []\n",
    "  for i in range(f.shape[1]):\n",
    "    u_x = grad(f[:,i], x, grad_outputs=torch.ones_like(f[:,i]), create_graph=True, retain_graph=True)[0]\n",
    "    u_xx = grad(u_x, x, grad_outputs=torch.ones_like(u_x), create_graph=True,retain_graph=True)[0]\n",
    "    laplace.append(u_xx.sum(dim=1, keepdim=True)) #Sum the 2nd derivatives across the dimensions\n",
    "  laplace = torch.cat(laplace, dim=1)\n",
    "  return laplace"
   ]
  },
  {
   "cell_type": "code",
   "execution_count": 224,
   "id": "3df67fc5",
   "metadata": {},
   "outputs": [],
   "source": [
    "#Defining the hyperparameters\n",
    "class config:\n",
    "  def __init__(self):\n",
    "    self.t0 = -10\n",
    "    self.tf = 10\n",
    "    self.xbc = 0\n",
    "    self.D = 1\n",
    "    self.lower_bound = self.t0 * torch.ones(self.D).float()\n",
    "    self.upper_bound = self.tf * torch.ones(self.D).float()\n",
    "    self.vol = torch.prod(self.upper_bound - self.lower_bound)    # scalar volume of the domain\n",
    "    self.eig_num = 5\n",
    "    self.col_pts = 500\n",
    "    self.layers = [self.D,150,150, 150,self.eig_num]\n",
    "    self.epochs = 20000\n",
    "\n",
    "cfg = config()"
   ]
  },
  {
   "cell_type": "code",
   "execution_count": 225,
   "id": "cfb6b061",
   "metadata": {},
   "outputs": [],
   "source": [
    "#Defining the Parametric Solution\n",
    "#This enforces the solution on the boundaries\n",
    "def parametricSolutions(t, nn, cfg):\n",
    "    N1 = nn(t)                                    # (batch, K)\n",
    "    # compute both factors for each column, then take their product\n",
    "    f = ((1 - torch.exp(-(t - cfg.t0))) * (1 - torch.exp(  t - cfg.tf))) # → (batch, dim)\n",
    "    f = f.prod(dim=1, keepdim=True)   # → (batch, 1)\n",
    "    psi_hat = cfg.xbc + f * N1        # broadcast (batch,1)*(batch,K)\n",
    "    return psi_hat"
   ]
  },
  {
   "cell_type": "code",
   "execution_count": 226,
   "id": "bc5d3ea0",
   "metadata": {},
   "outputs": [],
   "source": [
    "def hamEqs_Loss(psi, lap, v): #Defines the PDE loss\n",
    "    # Hamiltonian applied to psi\n",
    "    hamEqs = -0.5 * lap + v * psi\n",
    "    #Multi carlo integration\n",
    "    numerator = cfg.vol * (psi * hamEqs).mean(dim = 0)\n",
    "    denominator = cfg.vol * (psi * psi).mean(dim = 0)\n",
    "    E = numerator / denominator\n",
    "    # Residual (Schrödinger equation)|\n",
    "    res = 0.5 *lap + (E - v) * psi\n",
    "\n",
    "    #variance of energy\n",
    "    VoE = cfg.vol * (hamEqs**2).mean(dim = 0) - numerator**2\n",
    "    \n",
    "    return res, E, VoE"
   ]
  },
  {
   "cell_type": "code",
   "execution_count": 227,
   "id": "0a7077b6",
   "metadata": {},
   "outputs": [],
   "source": [
    "#The Harmonic potential\n",
    "def pot(t):\n",
    "    return 0.5 * (t.pow(2).sum(dim=1, keepdim=True))"
   ]
  },
  {
   "cell_type": "code",
   "execution_count": 228,
   "id": "859887d1",
   "metadata": {},
   "outputs": [],
   "source": [
    "#Defining the Frobenius norm\n",
    "def frobenius_norm(G):\n",
    "    I = torch.eye(G.shape[0], device = device, dtype = G.dtype)\n",
    "    loss = torch.linalg.matrix_norm(G - I) #The frobenius norm\n",
    "    return loss\n",
    "\n",
    "#Defining the monotonicity_penalty, this is to ensure that the eigenpairs are learned monotonically\n",
    "def monotonicity_penalty(E, margin = 0.0):\n",
    "    diffs = E[:-1] - E[1:] + margin\n",
    "    penalty = torch.relu(diffs).sum()    #torch.where(diffs > 0, torch.zeros_like(diffs), torch.exp(-diffs)).sum()       #\n",
    "    return penalty\n",
    "\n",
    "#Defining the cosine matrix\n",
    "def cosine_matrix(psi,x):\n",
    "  psi_norm = torch.sqrt(cfg.vol * (psi * psi).mean(dim = 0))  # (k,)\n",
    "  psi_normalized = psi / psi_norm  # (n, k)\n",
    "  psi_prod = psi_normalized.unsqueeze(2) * psi_normalized.unsqueeze(1)  # (n, k, k)\n",
    "  cos_matrix = cfg.vol * psi_prod.mean(dim=0)   # → (K, K)\n",
    "  return cos_matrix\n",
    "\n",
    "#Norm loss to ensure the wavefunctions are properly scaled\n",
    "def norm_loss(psi,x,cfg):\n",
    "  psi_norm = torch.sqrt(cfg.vol * (psi * psi).mean(dim = 0))  # (k,)\n",
    "  scale_term = (cfg.tf - cfg.t0)*psi_norm/cfg.col_pts\n",
    "  return torch.sum((1-scale_term).pow(2))\n",
    "\n",
    "#Norm loss to enforce orthonormality\n",
    "def new_norm_loss(psi,x,cfg):\n",
    "    psi_norm = (cfg.vol * (psi * psi).mean(dim = 0) - 1)**2\n",
    "    return psi_norm"
   ]
  },
  {
   "cell_type": "code",
   "execution_count": 229,
   "id": "0f05ffd1",
   "metadata": {},
   "outputs": [],
   "source": [
    "#Defining the NN architecture without symmetry\n",
    "class qNN(torch.nn.Module):\n",
    "  def __init__(self,cfg):\n",
    "    super(qNN,self).__init__()\n",
    "    self.activation = torch.sin\n",
    "    self.layers = cfg.layers\n",
    "\n",
    "    #Defining the Layers\n",
    "    self.linears = nn.ModuleList([nn.Linear(self.layers[i], self.layers[i+1]) for i in range(len(self.layers) - 1)])\n",
    "\n",
    "    #Initializing the weights\n",
    "    for i in range(len(self.layers)-1):\n",
    "      nn.init.xavier_normal_(self.linears[i].weight.data, gain=1.0)\n",
    "      nn.init.zeros_(self.linears[i].bias.data)\n",
    "\n",
    "  #Defining the forward pass\n",
    "  def forward(self,x):\n",
    "    if torch.is_tensor(x) != True:\n",
    "      x = torch.from_numpy(x)\n",
    "    a = x.float()\n",
    "    #In1 = self.ein(torch.ones_like(a))\n",
    "    for i in range(len(self.linears)-1):\n",
    "      z = self.linears[i](a)\n",
    "      #a = self.activation(z)\n",
    "      if i == 0:\n",
    "        a = self.activation(20*z) #Multiplying the input by a weight as recommended by the paper SIREN\n",
    "      else:\n",
    "        a = self.activation(z)\n",
    "    a = self.linears[-1](a)\n",
    "    return a"
   ]
  },
  {
   "cell_type": "markdown",
   "id": "c9ffe5c5",
   "metadata": {},
   "source": [
    "### Learning rate finder"
   ]
  },
  {
   "cell_type": "code",
   "execution_count": 230,
   "id": "de3a1fe0",
   "metadata": {},
   "outputs": [],
   "source": [
    "#We want to find the best lr for our defined model\n",
    "model_lr = qNN(cfg).to(device)\n",
    "optimizer_lr = optim.Adam(model_lr.parameters(), lr=1e-7)"
   ]
  },
  {
   "cell_type": "code",
   "execution_count": 231,
   "id": "986093aa",
   "metadata": {},
   "outputs": [],
   "source": [
    "def common_train_step(NN,t_rand,vx, cfg):\n",
    "    #Getting the parametric solution\n",
    "    psi =parametricSolutions(t_rand,NN,cfg) #The forward pass\n",
    "    psi = psi.to(device)\n",
    "\n",
    "    # Compute second derivatives\n",
    "    psi_xx = laplacian(psi,t_rand)\n",
    "\n",
    "    L,E,VoE = hamEqs_Loss(psi,psi_xx,vx)\n",
    "    Loss = torch.nn.MSELoss()\n",
    "    #Getting the losses after each forward pass\n",
    "    pde_loss = Loss(L,torch.zeros_like(L))  #The scaled pde_loss\n",
    "    n_loss = norm_loss(psi,t_rand,cfg)\n",
    "    G = cosine_matrix(psi, t_rand)\n",
    "    cosine_loss = frobenius_norm(G)\n",
    "    var_loss = torch.sum(VoE)\n",
    "    return pde_loss, n_loss, cosine_loss,var_loss, E"
   ]
  },
  {
   "cell_type": "code",
   "execution_count": 232,
   "id": "acfebc18",
   "metadata": {},
   "outputs": [
    {
     "data": {
      "text/plain": [
       "torch.Size([500, 1])"
      ]
     },
     "execution_count": 232,
     "metadata": {},
     "output_type": "execute_result"
    }
   ],
   "source": [
    "#Training points\n",
    "x_lhs = cfg.lower_bound + (cfg.upper_bound - cfg.lower_bound) * torch.tensor(lhs(cfg.D, cfg.col_pts)).float()\n",
    "x_lhs.shape"
   ]
  },
  {
   "cell_type": "code",
   "execution_count": 233,
   "id": "6b496700",
   "metadata": {},
   "outputs": [
    {
     "data": {
      "image/png": "[encoded data removed]",
      "text/plain": [
       "<Figure size 640x480 with 1 Axes>"
      ]
     },
     "metadata": {},
     "output_type": "display_data"
    }
   ],
   "source": [
    "losses = []\n",
    "lrs = []\n",
    "\n",
    "x_lhs = x_lhs.to(device)\n",
    "vx = pot(x_lhs).to(device)\n",
    "\n",
    "start_lr = 1e-7\n",
    "end_lr = 0.01\n",
    "num_iter = 100\n",
    "lr_mult = (end_lr / start_lr) ** (1/num_iter)\n",
    "\n",
    "lr = start_lr\n",
    "\n",
    "for iteration in range(num_iter):\n",
    "    x_lhs.requires_grad = True\n",
    "    optimizer_lr.param_groups[0]['lr'] = lr\n",
    "\n",
    "    optimizer_lr.zero_grad()\n",
    "    pde_loss, n_loss, cosine_loss,var_loss, En= common_train_step(model_lr,x_lhs,vx,cfg)\n",
    "    monotone_loss =monotonicity_penalty(En, margin = 0.1)\n",
    "    loss = pde_loss + n_loss+ cosine_loss + monotone_loss + var_loss\n",
    "    loss.backward()\n",
    "\n",
    "    optimizer_lr.step()\n",
    "\n",
    "    lrs.append(lr)\n",
    "    losses.append(loss.item())\n",
    "\n",
    "    lr *= lr_mult  # increase learning rate exponentially\n",
    "\n",
    "# Plot the result\n",
    "plt.plot(lrs, losses)\n",
    "plt.xscale('log')\n",
    "plt.axvline(x=5e-5, color='red', linestyle='--')\n",
    "plt.xlabel('Learning Rate')\n",
    "plt.ylabel('Loss')\n",
    "plt.title('LR Range Test')\n",
    "plt.show()"
   ]
  },
  {
   "cell_type": "code",
   "execution_count": null,
   "id": "ff8a1b36",
   "metadata": {},
   "outputs": [
    {
     "name": "stdout",
     "output_type": "stream",
     "text": [
      "qNN(\n",
      "  (linears): ModuleList(\n",
      "    (0): Linear(in_features=1, out_features=150, bias=True)\n",
      "    (1-2): 2 x Linear(in_features=150, out_features=150, bias=True)\n",
      "    (3): Linear(in_features=150, out_features=5, bias=True)\n",
      "  )\n",
      ")\n"
     ]
    }
   ],
   "source": [
    "model = qNN(cfg)\n",
    "model.to(device)\n",
    "print(model)\n",
    "#params = list(model.parameters())\n",
    "betas = [0.999, 0.9999]\n",
    "optimizer = optim.Adam(model.parameters(), lr=1e-4, betas=betas)\n",
    "\n",
    "cfg.update = 3000"
   ]
  },
  {
   "cell_type": "code",
   "execution_count": null,
   "id": "fbc11156",
   "metadata": {},
   "outputs": [
    {
     "data": {
      "text/plain": [
       "tensor([1, 2, 3, 4, 5])"
      ]
     },
     "execution_count": 236,
     "metadata": {},
     "output_type": "execute_result"
    }
   ],
   "source": [
    "pn = []\n",
    "for i in range(1, cfg.eig_num+1):\n",
    "    if "
   ]
  },
  {
   "cell_type": "code",
   "execution_count": null,
   "id": "86c2a669",
   "metadata": {},
   "outputs": [],
   "source": [
    "def nn_train(NN,t,cfg):\n",
    "  En_history = [] #To store the eigenvalues as it is optimized\n",
    "  loss_dic = {'pde_loss_hist': [], 'cos_loss_hist': [], 'norm_loss':[], 'total_loss_hist': [], 'lr_history': []} #To store the losses\n",
    "\n",
    "  #pn = torch.arange(1,cfg.eig_num+1) #Sequence from 1 to number of eigenvalues\n",
    "  #gaussian = fg(t, pn).to(device) #Gaussians with increasing width\n",
    "\n",
    "  t_rand = t.to(device).float()\n",
    "\n",
    "\n",
    "  #Obtaining the potential\n",
    "  vx = pot(t_rand).to(device)\n",
    "\n",
    "  #Dictionary to store the final training\n",
    "  dic = {}\n",
    "\n",
    "  stime = time.time()\n",
    "  for iter in range(cfg.epochs + 1):\n",
    "    t_rand.requires_grad = True\n",
    "    optimizer.zero_grad()\n",
    "\n",
    "    criteria_loss,n_loss, cosine_loss,En = common_train_step(NN,t_rand,vx,cfg)\n",
    "    monotone_loss = monotonicity_penalty(En, margin = 0.1)\n",
    "    total_loss = criteria_loss + n_loss + cosine_loss + monotone_loss\n",
    "    En_history.append(En.cpu().detach().numpy())\n",
    "    loss_dic['pde_loss_hist'].append(criteria_loss.item())\n",
    "    loss_dic['cos_loss_hist'].append(cosine_loss.item())\n",
    "    loss_dic['norm_loss'].append(n_loss.item())\n",
    "    if iter % 200 == 0:\n",
    "      print('--------------------------------------------')\n",
    "      print(f'Epoch: {iter}')\n",
    "      print(f'En: {En_history[-1]}')\n",
    "      print('--------------------------------------------')\n",
    "      print('Total_loss: ',total_loss.item())\n",
    "      print('pde_loss: ',criteria_loss.item())\n",
    "      print('norm_loss: ',n_loss.item())\n",
    "      print('cos_loss: ',cosine_loss.item())\n",
    "      print('Monotone_loss: ', monotone_loss.item())\n",
    "\n",
    "\n",
    "    #Backward propagation\n",
    "    total_loss.backward()\n",
    "\n",
    "\n",
    "\n",
    "    optimizer.step()\n",
    "\n",
    "    #Storing the loss after each iteration\n",
    "    loss_dic['total_loss_hist'].append(total_loss.cpu().detach().numpy())\n",
    "\n",
    "  #Storing the final eigenfunction\n",
    "  dic[1] = copy.deepcopy(NN)\n",
    "\n",
    "\n",
    "  ftime = time.time()\n",
    "  ttime = (ftime - stime)/60\n",
    "  print(f'Total training time is {ttime} minutes')\n",
    "  return loss_dic, np.array(En_history), dic"
   ]
  }
 ],
 "metadata": {
  "kernelspec": {
   "display_name": "venv",
   "language": "python",
   "name": "python3"
  },
  "language_info": {
   "codemirror_mode": {
    "name": "ipython",
    "version": 3
   },
   "file_extension": ".py",
   "mimetype": "text/x-python",
   "name": "python",
   "nbconvert_exporter": "python",
   "pygments_lexer": "ipython3",
   "version": "3.13.5"
  }
 },
 "nbformat": 4,
 "nbformat_minor": 5
}
